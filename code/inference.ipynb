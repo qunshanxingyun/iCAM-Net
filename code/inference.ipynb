{
 "cells": [
  {
   "cell_type": "markdown",
   "metadata": {},
   "source": [
    "# iCAM-Net: Inference and Case Study Reproduction\n",
    "\n",
    "This Jupyter Notebook provides a step-by-step guide to perform inference using a pre-trained iCAM-Net model. It is designed to reproduce the case study results, such as predicting all disease associations for a specific herb, as mentioned in our paper.\n",
    "\n",
    "**Objectives:**\n",
    "1.  Load a pre-trained iCAM-Net model.\n",
    "2.  Load all necessary data, including hypergraphs and entity mappings.\n",
    "3.  Predict the association scores between a given herb and all diseases in the dataset.\n",
    "4.  Display and save the top-ranked disease predictions.\n",
    "\n",
    "This notebook corresponds to the request from **Reviewer #3, Issue 7**, to provide a dedicated script for reproducing key analyses."
   ]
  },
  {
   "cell_type": "code",
   "execution_count": 19,
   "metadata": {},
   "outputs": [],
   "source": [
    "import torch\n",
    "import pandas as pd\n",
    "from tqdm.notebook import tqdm  # Use tqdm.notebook for better display in Jupyter\n",
    "import os\n",
    "import sys\n",
    "\n",
    "# Add the project's source code directory to the Python path\n",
    "# This allows us to import our custom modules\n",
    "# Please adjust the path if your notebook is not in the 'code' directory\n",
    "sys.path.append('../code/') # Or the correct path to your .py files\n",
    "\n",
    "# Import custom modules from the project\n",
    "# Make sure the file names (graph.py, models.py) match your project\n",
    "from graph import build_HC, build_DP\n",
    "from models import iCAM"
   ]
  },
  {
   "cell_type": "markdown",
   "metadata": {},
   "source": [
    "## 1. Configuration Setup\n",
    "\n",
    "In the next cell, you need to configure the paths and parameters for the inference task. Please modify these variables according to your local setup."
   ]
  },
  {
   "cell_type": "code",
   "execution_count": 20,
   "metadata": {},
   "outputs": [
    {
     "name": "stdout",
     "output_type": "stream",
     "text": [
      "Configuration loaded successfully.\n"
     ]
    }
   ],
   "source": [
    "# --- User Configuration Area ---\n",
    "\n",
    "# 1. Path to the pre-trained model weights (.pth file)\n",
    "# Example: A model from sensitivity analysis\n",
    "MODEL_PATH = \"/path/to/your/best_model.pth\"\n",
    "\n",
    "# 2. Root directory containing all data files (CSVs, embeddings, etc.)\n",
    "DATA_ROOT_DIR = \"../data/\"\n",
    "\n",
    "# 3. The original ID of the herb you want to predict for.\n",
    "HERB_ID_TO_PREDICT = 2545\n",
    "\n",
    "# 4. Name for the output CSV file that will store the predictions.\n",
    "OUTPUT_CSV_NAME = f\"predictions_herb_{HERB_ID_TO_PREDICT}.csv\"\n",
    "\n",
    "# 5. The GPU device to use for inference. Use \"cpu\" if you don't have a GPU.\n",
    "DEVICE = \"cuda:0\"\n",
    "\n",
    "# --- End of Configuration ---\n",
    "\n",
    "# Validate paths\n",
    "if not os.path.exists(MODEL_PATH):\n",
    "    raise FileNotFoundError(f\"Model file not found at: {MODEL_PATH}\")\n",
    "if not os.path.exists(DATA_ROOT_DIR):\n",
    "    raise FileNotFoundError(f\"Data directory not found at: {DATA_ROOT_DIR}\")\n",
    "\n",
    "print(\"Configuration loaded successfully.\")"
   ]
  },
  {
   "cell_type": "markdown",
   "metadata": {},
   "source": [
    "## 2. The Predictor Class\n",
    "\n",
    "Here, we define the `HerbDiseasePredictor` class. This class encapsulates all the logic for loading data, initializing the model, and performing predictions."
   ]
  },
  {
   "cell_type": "code",
   "execution_count": 21,
   "metadata": {},
   "outputs": [],
   "source": [
    "class HerbDiseasePredictor:\n",
    "    \"\"\"\n",
    "    A predictor class to facilitate inference with a pre-trained iCAM-Net model.\n",
    "    \"\"\"\n",
    "    def __init__(self, model_path, data_dir, device=\"cuda:0\"):\n",
    "        \"\"\"\n",
    "        Initializes the predictor.\n",
    "\n",
    "        Args:\n",
    "            model_path (str): Path to the pre-trained model weights (.pth file).\n",
    "            data_dir (str): Directory containing dataset CSVs and embedding files.\n",
    "            device (str): The device to run the model on (e.g., \"cuda:0\" or \"cpu\").\n",
    "        \"\"\"\n",
    "        self.device = torch.device(device if torch.cuda.is_available() else \"cpu\")\n",
    "        print(f\"Using device: {self.device}\")\n",
    "        \n",
    "        self.model_path = model_path\n",
    "        self.data_dir = data_dir\n",
    "        \n",
    "        # Load data, hypergraphs, and ID mappings\n",
    "        print(\"\\nStep 1: Loading data and building hypergraphs...\")\n",
    "        self._load_data()\n",
    "        \n",
    "        # Load the pre-trained model\n",
    "        print(\"\\nStep 2: Loading the pre-trained model...\")\n",
    "        self.model = self._load_model()\n",
    "        self.model.eval()\n",
    "        print(\"Initialization complete. Predictor is ready.\")\n",
    "\n",
    "    def _load_data(self):\n",
    "        \"\"\"Loads all necessary data files and creates mappings.\"\"\"\n",
    "        # Define file paths using the data root directory\n",
    "        hc_path = os.path.join(self.data_dir, \"H_C_TCM.csv\")\n",
    "        ce_path = os.path.join(self.data_dir, \"ce_TCM.txt\")\n",
    "        dp_path = os.path.join(self.data_dir, \"D_P_TCM.csv\")\n",
    "        pe_path = os.path.join(self.data_dir, \"pe_TCM.txt\")\n",
    "        \n",
    "        # Build herb-component hypergraph\n",
    "        self.H_C, self.X_compounds, self.herb_to_idx, self.comp_to_idx, self.herb2comp = build_HC(\n",
    "            hc_path, ce_path, device=self.device\n",
    "        )\n",
    "        # Build disease-protein hypergraph\n",
    "        self.D_P, self.X_proteins, self.disease_to_idx, self.protein_to_idx, self.disease2prot = build_DP(\n",
    "            dp_path, pe_path, device=self.device\n",
    "        )\n",
    "        \n",
    "        # Create a reverse mapping from internal index back to original disease ID\n",
    "        self.idx_to_disease = {v: k for k, v in self.disease_to_idx.items()}\n",
    "        print(\"Data loading successful.\")\n",
    "\n",
    "    def _load_model(self):\n",
    "        \"\"\"Loads and initializes the iCAM-Net model architecture.\"\"\"\n",
    "        # Define model parameters (these should match the parameters used during training)\n",
    "        in_dim = self.X_compounds.shape[1]\n",
    "        hidden_dim = 128\n",
    "        out_dim = 64\n",
    "        n_layers = 3\n",
    "        \n",
    "        # Instantiate the model\n",
    "        model = iCAM(\n",
    "            herb_graph=self.H_C,\n",
    "            disease_graph=self.D_P,\n",
    "            X_C=self.X_compounds,\n",
    "            X_P=self.X_proteins,\n",
    "            in_dim=in_dim,\n",
    "            hidden_dim=hidden_dim,\n",
    "            out_dim=out_dim,\n",
    "            device=self.device,\n",
    "            n_layers=n_layers,\n",
    "            herb2comp=self.herb2comp,\n",
    "            disease2prot=self.disease2prot,\n",
    "            return_attn=False  # Set to False for faster inference\n",
    "        ).to(self.device)\n",
    "        \n",
    "        # Load the saved weights\n",
    "        model.load_state_dict(torch.load(self.model_path, map_location=self.device, weights_only=True))\n",
    "        print(\"Model weights loaded successfully.\")\n",
    "        return model\n",
    "\n",
    "    @torch.no_grad()\n",
    "    def predict_all_diseases_for_herb(self, herb_id, batch_size=256):\n",
    "        \"\"\"\n",
    "        Predicts association scores between a specific herb and all diseases in the dataset.\n",
    "\n",
    "        Args:\n",
    "            herb_id (int): The original ID of the herb to predict for.\n",
    "            batch_size (int): Batch size for inference to manage memory and improve speed.\n",
    "            \n",
    "        Returns:\n",
    "            pd.DataFrame: A DataFrame with all diseases and their predicted scores, sorted descending.\n",
    "        \"\"\"\n",
    "        if herb_id not in self.herb_to_idx:\n",
    "            raise ValueError(f\"Error: Herb ID {herb_id} not found in the dataset.\")\n",
    "        \n",
    "        print(f\"\\nStep 3: Starting prediction for Herb ID {herb_id} against all diseases...\")\n",
    "        \n",
    "        herb_idx = self.herb_to_idx[herb_id]\n",
    "        herb_tensor = torch.tensor([herb_idx], device=self.device)\n",
    "        \n",
    "        all_results = []\n",
    "        num_diseases = len(self.disease_to_idx)\n",
    "        \n",
    "        # Create a progress bar for the prediction loop\n",
    "        progress_bar = tqdm(range(0, num_diseases, batch_size), desc=f\"Predicting (Batch Size: {batch_size})\")\n",
    "\n",
    "        for i in progress_bar:\n",
    "            end_idx = min(i + batch_size, num_diseases)\n",
    "            disease_indices_batch = list(range(i, end_idx))\n",
    "            \n",
    "            # Prepare batch tensors\n",
    "            disease_tensor_batch = torch.tensor(disease_indices_batch, device=self.device)\n",
    "            herb_tensor_batch = herb_tensor.expand(len(disease_indices_batch))\n",
    "            \n",
    "            # Get model predictions for the batch\n",
    "            scores_batch = self.model(herb_tensor_batch, disease_tensor_batch)\n",
    "            \n",
    "            # Collect results for each item in the batch\n",
    "            for j, disease_idx in enumerate(disease_indices_batch):\n",
    "                original_disease_id = self.idx_to_disease[disease_idx]\n",
    "                score = scores_batch[j].item()\n",
    "                \n",
    "                all_results.append({\n",
    "                    \"Disease Index\": disease_idx,\n",
    "                    \"Disease ID\": original_disease_id,\n",
    "                    \"Prediction Score\": score\n",
    "                })\n",
    "        \n",
    "        # Convert list of dictionaries to a Pandas DataFrame\n",
    "        results_df = pd.DataFrame(all_results)\n",
    "        # Sort the results by prediction score in descending order\n",
    "        results_df = results_df.sort_values(by=\"Prediction Score\", ascending=False).reset_index(drop=True)\n",
    "        \n",
    "        print(\"Prediction for all diseases is complete.\")\n",
    "        return results_df"
   ]
  },
  {
   "cell_type": "markdown",
   "metadata": {},
   "source": [
    "## 3. Run Inference\n",
    "\n",
    "Now we will instantiate the predictor and run the prediction for the herb specified in the configuration section."
   ]
  },
  {
   "cell_type": "code",
   "execution_count": 22,
   "metadata": {},
   "outputs": [
    {
     "name": "stdout",
     "output_type": "stream",
     "text": [
      "Using device: cuda:0\n",
      "\n",
      "Step 1: Loading data and building hypergraphs...\n",
      "Data loading successful.\n",
      "\n",
      "Step 2: Loading the pre-trained model...\n",
      "Model weights loaded successfully.\n",
      "Initialization complete. Predictor is ready.\n",
      "\n",
      "Step 3: Starting prediction for Herb ID 2545 against all diseases...\n"
     ]
    },
    {
     "data": {
      "application/vnd.jupyter.widget-view+json": {
       "model_id": "11448e13fd8b4b1788a4c87e73cbd80b",
       "version_major": 2,
       "version_minor": 0
      },
      "text/plain": [
       "Predicting (Batch Size: 256):   0%|          | 0/43 [00:00<?, ?it/s]"
      ]
     },
     "metadata": {},
     "output_type": "display_data"
    },
    {
     "name": "stdout",
     "output_type": "stream",
     "text": [
      "Prediction for all diseases is complete.\n",
      "\n",
      "Step 4: Prediction finished!\n",
      "Full results have been saved to: predictions_herb_2545.csv\n"
     ]
    }
   ],
   "source": [
    "# Instantiate the predictor\n",
    "predictor = HerbDiseasePredictor(model_path=MODEL_PATH, data_dir=DATA_ROOT_DIR, device=DEVICE)\n",
    "\n",
    "# Run the prediction\n",
    "predictions_df = predictor.predict_all_diseases_for_herb(herb_id=HERB_ID_TO_PREDICT)\n",
    "\n",
    "# Save the full results to a CSV file\n",
    "predictions_df.to_csv(OUTPUT_CSV_NAME, index=False, encoding='utf-8-sig')\n",
    "\n",
    "print(f\"\\nStep 4: Prediction finished!\")\n",
    "print(f\"Full results have been saved to: {OUTPUT_CSV_NAME}\")"
   ]
  }
 ],
 "metadata": {
  "kernelspec": {
   "display_name": "dgl",
   "language": "python",
   "name": "python3"
  },
  "language_info": {
   "codemirror_mode": {
    "name": "ipython",
    "version": 3
   },
   "file_extension": ".py",
   "mimetype": "text/x-python",
   "name": "python",
   "nbconvert_exporter": "python",
   "pygments_lexer": "ipython3",
   "version": "3.11.11"
  }
 },
 "nbformat": 4,
 "nbformat_minor": 2
}
